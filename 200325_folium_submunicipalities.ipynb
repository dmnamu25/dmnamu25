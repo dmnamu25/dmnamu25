{
 "cells": [
  {
   "cell_type": "code",
   "execution_count": 18,
   "metadata": {},
   "outputs": [],
   "source": [
    "import folium\n",
    "import json"
   ]
  },
  {
   "cell_type": "code",
   "execution_count": 35,
   "metadata": {},
   "outputs": [],
   "source": [
    "map_osm = folium.Map(location=[33.3616658,126.5204118], zoom_start=10.4)\n",
    "#map_osm = folium.Map(location=[37.566345, 126.977893])\n",
    "rfile = open('C:/Users/USER/Desktop/jupyter_notebook/southkorea-maps/kostat/2018/json/skorea-submunicipalities-2018-geo.json', 'r', encoding='utf-8').read()\n",
    "jsonData = json.loads(rfile)\n",
    "folium.GeoJson(jsonData, name= 'json_data').add_to(map_osm)\n",
    "map_osm\n",
    "\n",
    "map_osm.save('submunicipalities.html')"
   ]
  },
  {
   "cell_type": "code",
   "execution_count": null,
   "metadata": {},
   "outputs": [],
   "source": []
  }
 ],
 "metadata": {
  "kernelspec": {
   "display_name": "Python 3",
   "language": "python",
   "name": "python3"
  },
  "language_info": {
   "codemirror_mode": {
    "name": "ipython",
    "version": 3
   },
   "file_extension": ".py",
   "mimetype": "text/x-python",
   "name": "python",
   "nbconvert_exporter": "python",
   "pygments_lexer": "ipython3",
   "version": "3.7.6"
  }
 },
 "nbformat": 4,
 "nbformat_minor": 4
}
