{
 "cells": [
  {
   "cell_type": "code",
   "execution_count": null,
   "metadata": {},
   "outputs": [],
   "source": [
    "pip install selenium"
   ]
  },
  {
   "cell_type": "code",
   "execution_count": null,
   "metadata": {},
   "outputs": [],
   "source": [
    "from selenium import webdriver #webdriver\n",
    "from selenium.webdriver import ActionChains #자동화에 필요한 기능입니다. 그냥 입력해주세요!\n",
    "from selenium.webdriver.common.keys import Keys #자동화에 필요한 기능입니다. 그냥 입력해주세요!\n",
    "\n",
    "import time #자동화 속도가 로딩 시간보다 빠릅니다. 여유 시간을 둬야해요!\n",
    "\n",
    "path = \"C:/chromedriver/chromedriver.exe\" # !!! 경로 지정 !!!!\n",
    "\n",
    "driver = webdriver.Chrome(path) #대충 웹드라이버를 이용해서 제어\n",
    "actionChains = ActionChains(driver) #자동화에 추가적으로 필요한 기능입니다.\n",
    "driver.get('https://www.ev.or.kr/ps/member/login') #저공해차 구매보조금 지원시스템 주소입니다. 다른 주소로 놔주세요!\n",
    "\n",
    "time.sleep(0.5) # 시간 지연, 너무 빠르면 다음 명령어 실행 안됨\n",
    "driver.find_element_by_id(\"member_id\").click() # 아이디창 클릭\n",
    "time.sleep(0.5) # 시간 지연\n",
    "driver.find_element_by_id(\"member_id\").send_keys(\"*\") # \"*\"에 아이디 입력\n",
    "time.sleep(0.5) # 시간 지연\n",
    "driver.find_element_by_id(\"member_pw\").click() # 비밀번호창 클릭\n",
    "time.sleep(0.5) # 시간 지연\n",
    "driver.find_element_by_id(\"member_pw\").send_keys(\"*\") # \"*\"에 비밀번호 입력\n",
    "time.sleep(0.5) # 시간 지연\n",
    "driver.find_element_by_id(\"moveLogin\").click() # 로그인창 클릭\n",
    "time.sleep(0.5) # 시간 지연\n",
    "\n",
    "driver.find_element_by_xpath(\"//*[@id='cont_body']/form[2]/div[2]/span[5]\").click() #\"\" → '' 지급완료\n",
    "time.sleep(0.5)\n",
    "driver.find_element_by_xpath(\"//*[@id='order_gubun']/option[4]\").click() #신청자명\n",
    "time.sleep(0.5)\n",
    "driver.find_element_by_xpath(\"//*[@id='order_type']/option[2]\").click() #오름차순\n",
    "time.sleep(0.5)\n",
    "driver.find_element_by_xpath(\"//*[@id='cont_body']/form[2]/div[3]/div[2]/a[2]\").click() #조회\n",
    "time.sleep(0.5)\n",
    "driver.find_element_by_xpath(\"/html/body/div[1]/div/div[2]/div/div[2]/div/div[3]/div[3]/table/tbody/tr[1]/td[5]/span\").click() #첫번째 지급완료\n",
    "time.sleep(0.5)"
   ]
  },
  {
   "cell_type": "code",
   "execution_count": null,
   "metadata": {},
   "outputs": [],
   "source": [
    "def auto_print(): #인쇄\n",
    "        \n",
    "    time.sleep(2)\n",
    "    driver.switch_to.window(driver.window_handles[1])\n",
    "    driver.find_element_by_xpath(\"/html/body/div[1]/div[2]/div[3]/div/div[1]/div[2]/button[3]\").click()\n",
    "       \n",
    "    time.sleep(3)\n",
    "    driver.switch_to.window(driver.window_handles[2])\n",
    "    actionChains = ActionChains(driver)\n",
    "    actionChains.send_keys(Keys.ENTER).perform()\n",
    "    time.sleep(0.5)\n",
    "\n",
    "    driver.switch_to.window(driver.window_handles[0])\n",
    "    time.sleep(0.5)\n",
    "        \n",
    "driver.find_element_by_xpath(\"/html/body/div[1]/div/div[2]/div/div[2]/div/div[3]/div[3]/table/tbody/tr[1]/td[5]/span\").click() #첫번째 지급완료\n",
    "time.sleep(0.5)\n",
    "driver.find_element_by_xpath(\"/html/body/div[1]/div/div[2]/div/div[2]/div/form[4]/div[14]/div/table/tbody/tr[2]/td[1]/div[2]/input\").click() #지급일자창\n",
    "time.sleep(0.5)\n",
    "driver.find_element_by_xpath(\"/html/body/div[2]/table/tbody/tr[4]/td[7]/a\").click() #지급일자\n",
    "time.sleep(0.5)\n",
    "driver.find_element_by_xpath(\"/html/body/div[1]/div/div[2]/div/div[2]/div/form[4]/div[17]/table/tbody/tr[5]/td[1]/p/a[2]\").click() #통장사본\n",
    "auto_print()"
   ]
  },
  {
   "cell_type": "code",
   "execution_count": null,
   "metadata": {},
   "outputs": [],
   "source": [
    "    driver.find_element_by_xpath(\"/html/body/div[1]/div/div[2]/div/div[2]/div/div[3]/div[3]/table/tbody/tr[1]/td[5]/span\").click() #첫번째 지급완료\n",
    "    time.sleep(0.5)\n",
    "    \n",
    "    driver.find_element_by_xpath(\"/html/body/div[1]/div/div[2]/div/div[2]/div/form[4]/div[14]/div/table/tbody/tr[2]/td[1]/div[2]/input\").click() #지급일자창\n",
    "    time.sleep(0.5)\n",
    "    \n",
    "    driver.find_element_by_xpath(\"/html/body/div[2]/table/tbody/tr[4]/td[7]/a\").click() #지급일자\n",
    "    time.sleep(0.5)\n",
    "\n",
    "    driver.find_element_by_xpath(\"/html/body/div[1]/div/div[2]/div/div[2]/div/form[4]/div[17]/table/tbody/tr[5]/td[1]/p/a[2]\").click() #통장사본\n",
    "    auto_print()\n",
    "\n",
    "    driver.find_element_by_xpath(\"/html/body/div[1]/div/div[2]/div/div[2]/div/form[4]/div[17]/table/tbody/tr[3]/td[1]/p/a[2]\").click() #세금계산서\n",
    "    auto_print()\n",
    "\n",
    "    driver.find_element_by_xpath(\"/html/body/div[1]/div/div[2]/div/div[2]/div/form[4]/div[17]/table/tbody/tr[2]/td[1]/p/a[2]\").click() #자동차등록증\n",
    "    auto_print()\n",
    "\n",
    "    driver.find_element_by_xpath(\"/html/body/div[1]/div/div[2]/div/div[2]/div/form[4]/div[17]/table/tbody/tr[6]/td[1]/p/a[2]\").click() #폐차증빙서류\n",
    "    auto_print()\n",
    "\n",
    "    driver.find_element_by_xpath(\"/html/body/div[1]/div/div[2]/div/div[2]/div/div[2]/a[5]\").click() #지급완료\n",
    "    time.sleep(0.5)\n",
    "\n",
    "    driver.find_element_by_xpath(\"/html/body/div[1]/div/div[2]/div/div[2]/div/div[2]/a[8]\").click() #목록\n",
    "    time.sleep(0.5)"
   ]
  }
 ],
 "metadata": {
  "kernelspec": {
   "display_name": "Python 3",
   "language": "python",
   "name": "python3"
  },
  "language_info": {
   "codemirror_mode": {
    "name": "ipython",
    "version": 3
   },
   "file_extension": ".py",
   "mimetype": "text/x-python",
   "name": "python",
   "nbconvert_exporter": "python",
   "pygments_lexer": "ipython3",
   "version": "3.7.4"
  }
 },
 "nbformat": 4,
 "nbformat_minor": 4
}
